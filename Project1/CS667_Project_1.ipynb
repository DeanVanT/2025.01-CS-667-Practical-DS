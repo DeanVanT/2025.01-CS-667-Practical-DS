{
 "cells": [
  {
   "cell_type": "code",
   "execution_count": 9,
   "metadata": {},
   "outputs": [],
   "source": [
    "from urllib.parse import urlparse\n",
    "import tldextract\n",
    "from typing import Dict, Union"
   ]
  },
  {
   "cell_type": "code",
   "execution_count": 10,
   "metadata": {},
   "outputs": [],
   "source": [
    "\n",
    "\n",
    "def evaluate_reference_credibility(url: str) -> Dict[str, Union[float, str]]:\n",
    "    \"\"\"\n",
    "    Basic URL credibility evaluation based on domain type and known reliable sources.\n",
    "    \n",
    "    Args:\n",
    "        url (str): The URL to evaluate\n",
    "        \n",
    "    Returns:\n",
    "        dict: Contains 'score' (float) and 'explanation' (str)\n",
    "    \"\"\"\n",
    "    try:\n",
    "        # Parse the URL\n",
    "        extracted = tldextract.extract(url)\n",
    "        domain = f\"{extracted.domain}.{extracted.suffix}\"\n",
    "        \n",
    "        # Define trusted domains and their scores\n",
    "        trusted_domains = {\n",
    "            'edu': 0.9,    # Educational institutions\n",
    "            'gov': 0.9,    # Government websites\n",
    "            'org': 0.7,    # Non-profit organizations\n",
    "        }\n",
    "        \n",
    "        # Define trusted sources\n",
    "        trusted_sources = {\n",
    "            'nature.com': 0.9,\n",
    "            'science.org': 0.9,\n",
    "            'scholar.google.com': 0.8,\n",
    "        }\n",
    "        \n",
    "        # Basic scoring logic\n",
    "        score = 0.5  # Default score\n",
    "        explanation = []\n",
    "        \n",
    "        # Check domain type\n",
    "        if extracted.suffix in trusted_domains:\n",
    "            score = trusted_domains[extracted.suffix]\n",
    "            explanation.append(f\"Trusted domain type ({extracted.suffix})\")\n",
    "        \n",
    "        # Check for trusted sources\n",
    "        if domain in trusted_sources:\n",
    "            score = trusted_sources[domain]\n",
    "            explanation.append(f\"Recognized trusted source ({domain})\")\n",
    "            \n",
    "        return {\n",
    "            \"score\": score,\n",
    "            \"explanation\": \" | \".join(explanation) if explanation else \"Basic domain evaluation\"\n",
    "        }\n",
    "        \n",
    "    except Exception as e:\n",
    "        return {\n",
    "            \"score\": 0.0,\n",
    "            \"explanation\": f\"Error evaluating URL: {str(e)}\"\n",
    "        }"
   ]
  },
  {
   "cell_type": "code",
   "execution_count": 11,
   "metadata": {},
   "outputs": [
    {
     "name": "stdout",
     "output_type": "stream",
     "text": [
      "{'score': 0.9, 'explanation': 'Recognized trusted source (nature.com)'}\n"
     ]
    }
   ],
   "source": [
    "url = \"https://www.nature.com/articles/s41586-020-2649-2\"\n",
    "result = evaluate_reference_credibility(url)\n",
    "print(result)\n"
   ]
  }
 ],
 "metadata": {
  "kernelspec": {
   "display_name": "Python 3",
   "language": "python",
   "name": "python3"
  },
  "language_info": {
   "codemirror_mode": {
    "name": "ipython",
    "version": 3
   },
   "file_extension": ".py",
   "mimetype": "text/x-python",
   "name": "python",
   "nbconvert_exporter": "python",
   "pygments_lexer": "ipython3",
   "version": "3.9.6"
  }
 },
 "nbformat": 4,
 "nbformat_minor": 2
}
